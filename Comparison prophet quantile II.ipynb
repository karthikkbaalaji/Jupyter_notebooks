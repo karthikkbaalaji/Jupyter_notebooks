{
 "cells": [
  {
   "cell_type": "code",
   "execution_count": 121,
   "metadata": {},
   "outputs": [
    {
     "name": "stdout",
     "output_type": "stream",
     "text": [
      "Populating the interactive namespace from numpy and matplotlib\n"
     ]
    },
    {
     "name": "stderr",
     "output_type": "stream",
     "text": [
      "/Users/abertran/anaconda3/lib/python3.6/site-packages/IPython/core/magics/pylab.py:160: UserWarning: pylab import has clobbered these variables: ['f', 'datetime']\n",
      "`%matplotlib` prevents importing * from pylab and numpy\n",
      "  \"\\n`%matplotlib` prevents importing * from pylab and numpy\"\n"
     ]
    }
   ],
   "source": [
    "NUM_DAYS_2_WEEKS=14\n",
    "TTL_NOTPOSSIBLE=-100\n",
    "import pandas as pd\n",
    "import pandas.tools.plotting\n",
    "import numpy as np\n",
    "# from scipy import stats\n",
    "# from sklearn import linear_model\n",
    "\n",
    "#import datetime as dt\n",
    "from datetime import datetime, timedelta\n",
    "import matplotlib.pyplot as plt\n",
    "\n",
    "from fbprophet import Prophet\n",
    "\n",
    "import importlib\n",
    "import sys\n",
    "\n",
    "%pylab inline\n",
    "pylab.rcParams['figure.figsize'] = (10, 4)\n",
    "\n",
    "sys.path.insert(0, '/Users/abertran/Documents/gitRepositories/Steve_notebooks')\n",
    "from capacityHelpers2 import *\n",
    "\n",
    "figureSize=(18,5)\n",
    "\n",
    "dir_name='/Users/abertran/Documents/gitRepositories/Steve_notebooks/SteveBobNotebooks/data/'\n",
    "#+'*cpu-capacity*'\n",
    "from os import listdir\n",
    "from os.path import isfile, join\n",
    "onlyfiles = [f for f in listdir(dir_name) if isfile(join(dir_name, f))]\n",
    "onlyfiles = [s for s in onlyfiles if 'cpu-capacity' in s]"
   ]
  },
  {
   "cell_type": "code",
   "execution_count": 122,
   "metadata": {},
   "outputs": [
    {
     "data": {
      "text/plain": [
       "{'ap0',\n",
       " 'ap1',\n",
       " 'ap3',\n",
       " 'ap4',\n",
       " 'ap5',\n",
       " 'ap6',\n",
       " 'ap7',\n",
       " 'eu1',\n",
       " 'eu11',\n",
       " 'eu5',\n",
       " 'eu6',\n",
       " 'eu7',\n",
       " 'eu9',\n",
       " 'na24',\n",
       " 'na29',\n",
       " 'na3',\n",
       " 'na30',\n",
       " 'na31',\n",
       " 'na32',\n",
       " 'na33',\n",
       " 'na34',\n",
       " 'na35',\n",
       " 'na37',\n",
       " 'na38',\n",
       " 'na39',\n",
       " 'na40',\n",
       " 'na42',\n",
       " 'na43',\n",
       " 'na44',\n",
       " 'na45',\n",
       " 'na46',\n",
       " 'na47',\n",
       " 'na48',\n",
       " 'na49',\n",
       " 'na50',\n",
       " 'na51',\n",
       " 'na52',\n",
       " 'na53',\n",
       " 'na6',\n",
       " 'na7',\n",
       " 'na8'}"
      ]
     },
     "execution_count": 122,
     "metadata": {},
     "output_type": "execute_result"
    }
   ],
   "source": [
    "pod_list=set([i.split('-', 1)[0] for i in onlyfiles])\n",
    "#Remove ap9,eu4 for now as it does not have a spare node so breaks code\n",
    "if 'ap9' in pod_list: pod_list.remove('ap9')\n",
    "if 'eu4' in pod_list: pod_list.remove('eu4')\n",
    "if 'na41' in pod_list: pod_list.remove('na41')\n",
    "if 'na21' in pod_list: pod_list.remove('na21')\n",
    "#Pods below taken out because of error in 90th quantile due to not much data - need to continue processing with that error\n",
    "if 'eu8' in pod_list: pod_list.remove('eu8')\n",
    "if 'eu10' in pod_list: pod_list.remove('eu10')\n",
    "if 'eu12' in pod_list: pod_list.remove('eu12')\n",
    "if 'eu13' in pod_list: pod_list.remove('eu13')\n",
    "if 'eu14' in pod_list: pod_list.remove('eu14')\n",
    "if 'eu15' in pod_list: pod_list.remove('eu15')\n",
    "pod_list"
   ]
  },
  {
   "cell_type": "code",
   "execution_count": 123,
   "metadata": {
    "collapsed": true
   },
   "outputs": [],
   "source": [
    "dbCpuCapacity = 50\n",
    "\n",
    "# variables determined by given pod\n",
    "pod = pd.read_csv('/Users/abertran/Documents/gitRepositories/Steve_notebooks/SteveBobNotebooks/lookups/podList2.csv')\n",
    "pod.set_index('pod', inplace=True)\n",
    "\n",
    "cap_adds = pd.read_csv('/Users/abertran/Documents/gitRepositories/Steve_notebooks/SteveBobNotebooks/lookups/podCapacityAdditions.csv', parse_dates=['capacityAdditionDate'], date_parser=lambda x: pd.to_datetime(x))\n",
    "cap_adds.set_index('pod', inplace=True)"
   ]
  },
  {
   "cell_type": "code",
   "execution_count": 124,
   "metadata": {
    "collapsed": true
   },
   "outputs": [],
   "source": [
    "def prophet_forecast(tsCPU2, holidays, dbCPUchangePointsAsDate,topNodes, IRdate,outdir,testData=None):\n",
    "    \n",
    "    rms_test=None\n",
    "    MAE_test=None\n",
    "    MAPE_test=None\n",
    "    \n",
    "    m = Prophet(yearly_seasonality=False,weekly_seasonality=True,daily_seasonality=False,\n",
    "                holidays=holidays, changepoints=dbCPUchangePointsAsDate)\n",
    "    m.fit(tsCPU2)\n",
    "\n",
    "    future = m.make_future_dataframe(periods=360)\n",
    "    future['cap'] = 50*topNodes\n",
    "    forecast = m.predict(future)\n",
    "    \n",
    "    forecast.set_index('ds', inplace=True)\n",
    "    \n",
    "    mask_future=forecast.index>max(tsCPU2.index)\n",
    "    mask_model=forecast.index<=max(tsCPU2.index)\n",
    "    model=forecast.loc[mask_model]\n",
    "    # One-liner to start the debugger here.\n",
    "    #from IPython.core.debugger import Tracer; Tracer()()\n",
    "    future_forecast=forecast.loc[mask_future]\n",
    "    \n",
    "    \n",
    "    if(testData is not None):\n",
    "        errorDF=pd.merge(future_forecast, testData,  how='left', left_index=True, right_index=True)\n",
    "        rms_test=np.sqrt(np.mean(np.square(errorDF['yhat']-errorDF['y'])))\n",
    "        MAE_test=(1/len(errorDF))*np.sum(np.abs(errorDF['yhat']-errorDF['y']))\n",
    "        MAPE_test=(100/len(errorDF))*np.sum(np.abs(errorDF['yhat']-errorDF['y'])/errorDF['y'])\n",
    "            \n",
    "        \n",
    "    plt.style.use('seaborn-whitegrid')\n",
    "    fig, ax = plt.subplots(figsize=(18,5))\n",
    "    \n",
    "    ax.plot(tsCPU2.index,tsCPU2['y'],c='black')\n",
    "    if(testData is not None):\n",
    "        ax.plot(testData.index,testData['y'],c='black')\n",
    "    ax.plot(model.index,model['yhat'],c='#1f77b4')\n",
    "    ax.fill_between(model.index, model.yhat_lower, model.yhat_upper, facecolor='#1f77b4', alpha=.5)\n",
    "    ax.plot(future_forecast.index,future_forecast['yhat'],c='#ff7f0e')\n",
    "    ax.fill_between(future_forecast.index, future_forecast.yhat_lower, future_forecast.yhat_upper, facecolor='#ff7f0e', alpha=.5)\n",
    "    ax.set_ylabel('CPU Utilization (%)', fontsize=14)\n",
    "    ax.set_ylim(0,50*topNodes*1.2)\n",
    "    ax.set_title(podName , fontsize=20)\n",
    "    ax.axvline(x=IRdate, c='gray', lw=4, alpha=0.5)\n",
    "    ax.axhline(y=50*topNodes,c='gray',linestyle='--')\n",
    "    ax.text(x=(pd.to_datetime(IRdate) - pd.Timedelta('15 days')), y=15, s='IR Date', color='black', fontsize=16, fontweight='bold', alpha=0.8)\n",
    "\n",
    "    plt.savefig(outdir+'prophet_'+podName+'.pdf',format='pdf')\n",
    "    plt.close(fig)\n",
    "    \n",
    "    forecast['ds'] = forecast.index\n",
    "    pessimisticTTL_prophet = forecast[forecast['yhat_upper'] >= capacity]['ds'].min()\n",
    "    optimisticTTL_prophet = forecast[forecast['yhat'] >= capacity]['ds'].min()\n",
    "    return pessimisticTTL_prophet, optimisticTTL_prophet, future, rms_test, MAE_test, MAPE_test"
   ]
  },
  {
   "cell_type": "code",
   "execution_count": 125,
   "metadata": {},
   "outputs": [],
   "source": [
    "import rpy2;\n",
    "import rpy2.robjects as robjects\n",
    "from rpy2.robjects.packages import importr\n",
    "import rpy2.robjects as ro\n",
    "from rpy2.robjects import pandas2ri\n",
    "pandas2ri.activate()\n",
    "base = importr('base')\n",
    "# do things that generate R warnings\n",
    "base.warnings()\n",
    "\n",
    "def f(x):\n",
    "    return datetime.datetime.utcfromtimestamp(x)\n",
    "f2 = np.vectorize(f)\n",
    "\n",
    "def quantile_forecast(tsCPU2, IRdate,podName,future,outdir,testData=None):\n",
    "    rms_test=None\n",
    "    MAE_test=None\n",
    "    MAPE_test=None\n",
    "    tsQuantile=tsCPU2.copy()\n",
    "    end_quantile_forecast_date=tsQuantile['ds'].iloc[(len(tsQuantile)-1)]\n",
    "    start_quantile_forecast_date=end_quantile_forecast_date - timedelta(6*365/12+1)\n",
    "    if(podName in cap_adds.index):\n",
    "        cap_add_dates=cap_adds.loc[[podName],'capacityAdditionDate']\n",
    "        cap_add_date=np.max(cap_add_dates)\n",
    "        if(cap_add_date>start_quantile_forecast_date):\n",
    "            start_quantile_forecast_date=cap_add_date\n",
    "    \n",
    "    tdelta=end_quantile_forecast_date-start_quantile_forecast_date\n",
    "    if(tdelta.days<NUM_DAYS_2_WEEKS) :\n",
    "        pessimisticTTL_quantile=TTL_NOTPOSSIBLE \n",
    "        optimisticTTL_quantile=TTL_NOTPOSSIBLE\n",
    "    else:     \n",
    "    \n",
    "        futureQuantile=future.copy()\n",
    "\n",
    "        mask=(tsQuantile['ds']>=start_quantile_forecast_date) & (tsQuantile['ds'] <= end_quantile_forecast_date)\n",
    "        tsQuantile=tsQuantile.loc[mask]\n",
    "        mask=(futureQuantile['ds']>end_quantile_forecast_date) \n",
    "        futureQuantile=futureQuantile.loc[mask]\n",
    "\n",
    "        tsQuantile['indices'] = 1+(tsQuantile['ds']-tsQuantile['ds'].iloc[0]).astype('timedelta64[D]')\n",
    "        futureQuantile['indices'] = 1+(futureQuantile['ds']-tsQuantile['ds'].iloc[0]).astype('timedelta64[D]')\n",
    "\n",
    "        end_quantile_forecast_date=tsQuantile['ds'].iloc[(len(tsQuantile)-1)]\n",
    "        start_quantile_forecast_date=end_quantile_forecast_date - timedelta(6*365/12+1)\n",
    "\n",
    "        rdf_model_train = pandas2ri.py2ri(tsQuantile[['indices','y']])\n",
    "        indices_to_forecast_r = pandas2ri.py2ri(futureQuantile[['indices']])\n",
    "\n",
    "        quantreg = importr('quantreg')\n",
    "\n",
    "        robjects.r('''\n",
    "                   med_coeff <- function(train) {\n",
    "                            library(quantreg)\n",
    "                            train1.rf <- rq(y ~ indices, data = train, tau=0.5)\n",
    "                    }\n",
    "                    ''')\n",
    "        robjects.r('''\n",
    "                   ninetyp_coeff <- function(train) {\n",
    "                            library(quantreg)\n",
    "                            train1.rf <- rq(y ~ indices, data = train, tau=0.9)\n",
    "                    }\n",
    "                    ''')\n",
    "\n",
    "        #Predict\n",
    "        robjects.r('''\n",
    "                   g <- function(model,indices_to_forecast) {\n",
    "                            pred=predict(model,data.frame(index=indices_to_forecast),interval=\"confidence\")\n",
    "                            #pred <- as.data.frame(predict(model, test))\n",
    "                            pred = as.data.frame(pred)\n",
    "\n",
    "                    }\n",
    "                    ''')\n",
    "\n",
    "        use_median=True\n",
    "        use_equantile=True\n",
    "        try:\n",
    "            #Model and forecast for 50percentile (median) quantile\n",
    "            r_f = robjects.globalenv['med_coeff']\n",
    "            rf_model=(r_f(rdf_model_train))\n",
    "            #model_med=dict(zip(rf_model.names, list(rf_model)))\n",
    "            med_fitted_values=(np.array(rf_model.rx('fitted.values'))).flatten()\n",
    "            med_coeff=(np.array(rf_model.rx('coefficients'))).flatten()\n",
    "            r_g = robjects.globalenv['g']\n",
    "            pred_median=pandas2ri.ri2py(r_g(rf_model,indices_to_forecast_r))\n",
    "        except:\n",
    "            use_median=False\n",
    "            med_coeff=[0,0]\n",
    "\n",
    "\n",
    "        try:    \n",
    "            ##Model and forecast for 90percentile quantile\n",
    "            r_f = robjects.globalenv['ninetyp_coeff']\n",
    "            rf_model=(r_f(rdf_model_train))\n",
    "            #model_ninetyp=dict(zip(rf_model.names, list(rf_model)))\n",
    "            ninetyp_fitted_values=(np.array(rf_model.rx('fitted.values'))).flatten()\n",
    "            ninetyp_coeff=(np.array(rf_model.rx('coefficients'))).flatten()\n",
    "            r_g = robjects.globalenv['g']\n",
    "            pred_ninetyp=pandas2ri.ri2py(r_g(rf_model,indices_to_forecast_r))\n",
    "        except:\n",
    "            use_equantile=False\n",
    "            ninetyp_coeff=[0,0]\n",
    "\n",
    "\n",
    "        #Set-up the model quantile lines\n",
    "        x_start_med_line=tsQuantile.iloc[0]['ds']\n",
    "        x_end_med_line=tsQuantile.iloc[(len(tsQuantile)-1)]['ds']\n",
    "        y_start_med_line=med_coeff[0]+med_coeff[1]*tsQuantile.iloc[0]['indices']\n",
    "        y_end_med_line=med_coeff[0]+med_coeff[1]*tsQuantile.iloc[(len(tsQuantile)-1)]['indices']\n",
    "        y_start_extrap_line=ninetyp_coeff[0]+ninetyp_coeff[1]*tsQuantile.iloc[0]['indices']\n",
    "        y_end_extrap_line=ninetyp_coeff[0]+ninetyp_coeff[1]*tsQuantile.iloc[(len(tsQuantile)-1)]['indices']\n",
    "\n",
    "        #Set-up the forecast quantile lines\n",
    "        x_forecast_start_med_line=futureQuantile.iloc[0]['ds']\n",
    "        x_forecast_end_med_line=futureQuantile.iloc[(len(futureQuantile)-1)]['ds']\n",
    "        y_forecast_start_med_line=med_coeff[0]+med_coeff[1]*futureQuantile.iloc[0]['indices']\n",
    "        y_forecast_end_med_line=med_coeff[0]+med_coeff[1]*futureQuantile.iloc[(len(futureQuantile)-1)]['indices']\n",
    "        y_forecast_start_extrap_line=ninetyp_coeff[0]+ninetyp_coeff[1]*futureQuantile.iloc[0]['indices']\n",
    "        y_forecast_end_extrap_line=ninetyp_coeff[0]+ninetyp_coeff[1]*futureQuantile.iloc[(len(futureQuantile)-1)]['indices']\n",
    "\n",
    "        #Set-up the confidence interval for the forecast quantile lines\n",
    "        futureQuantile = futureQuantile.reset_index(drop=True)\n",
    "        if(use_median):\n",
    "            #50P\n",
    "            y_forecast_start_extrap_lwr_med=pred_median.iloc[0]['lower']\n",
    "            y_forecast_start_extrap_hghr_med=pred_median.iloc[0]['higher']\n",
    "            y_forecast_end_extrap_lwr_med=pred_median.iloc[(len(futureQuantile)-1)]['lower']\n",
    "            y_forecast_end_extrap_hghr_med=pred_median.iloc[(len(futureQuantile)-1)]['higher']\n",
    "            \n",
    "            pred_median = pred_median.reset_index(drop=True)\n",
    "            \n",
    "            pred_median['indices']=futureQuantile['indices']\n",
    "            pred_median['ds']=futureQuantile['ds']\n",
    "            \n",
    "        if(use_equantile):    \n",
    "            #90P\n",
    "            y_forecast_start_extrap_lwr_ninetyp=pred_ninetyp.iloc[0]['lower']\n",
    "            y_forecast_start_extrap_hghr_ninetyp=pred_ninetyp.iloc[0]['higher']\n",
    "            y_forecast_end_extrap_lwr_ninetyp=pred_ninetyp.iloc[(len(futureQuantile)-1)]['lower']\n",
    "            y_forecast_end_extrap_hghr_ninetyp=pred_ninetyp.iloc[(len(futureQuantile)-1)]['higher']\n",
    "\n",
    "            pred_ninetyp = pred_ninetyp.reset_index(drop=True)\n",
    "            \n",
    "            pred_ninetyp['indices']=futureQuantile['indices']\n",
    "            pred_ninetyp['ds']=futureQuantile['ds']\n",
    "        \n",
    "        if(testData is not None):\n",
    "            df_temp=testData.copy(deep=True)\n",
    "            df_temp.set_index('ds',inplace=True)\n",
    "            #date2 = df_temp.index.values -  pd.to_timedelta(3.5, unit='d')\n",
    "            df_model_test_equantile=df_temp['y'].groupby(pd.TimeGrouper(freq='W')).quantile(0.9)\n",
    "            #df_model_test_equantile.reset_index(level=0, inplace=True)\n",
    "            date2 = df_model_test_equantile.index.values -  pd.to_timedelta(3.5, unit='d')\n",
    "            date2 = (date2 - np.datetime64('1970-01-01T00:00:00Z')) / np.timedelta64(1, 's')\n",
    "            date2=f2(date2)\n",
    "            #date2 = datetime.datetime.utcfromtimestamp(date2)\n",
    "            #date2 = datetime.utcfromtimestamp(date2)\n",
    "            df_model_test_equantileDF=pd.DataFrame(df_model_test_equantile)\n",
    "            df_model_test_equantileDF=df_model_test_equantileDF.reset_index(drop=True)\n",
    "            df_model_test_equantileDF['ds']=date2\n",
    "            #df_model_test_equantileDF.set_index('ds', inplace=True)\n",
    "            df_model_test_equantileDF['indices'] = (df_model_test_equantileDF['ds']-(tsQuantile['ds'].iloc[0]).to_datetime()).astype('timedelta64[D]')\n",
    "            df_model_test_equantileDF['y_pred']=ninetyp_coeff[0]+ninetyp_coeff[1]*df_model_test_equantileDF['indices']    \n",
    "            rms_test=np.sqrt(np.mean(np.square(df_model_test_equantileDF['y_pred']-df_model_test_equantileDF['y'])))\n",
    "            MAE_test=(1/len(df_model_test_equantileDF))*np.sum(np.abs(df_model_test_equantileDF['y_pred']-df_model_test_equantileDF['y']))\n",
    "            MAPE_test=(100/len(df_model_test_equantileDF))*np.sum(np.abs(df_model_test_equantileDF['y_pred']-df_model_test_equantileDF['y'])/df_model_test_equantileDF['y'])\n",
    "            \n",
    "        fig, ax = plt.subplots(figsize=figureSize)\n",
    "        ax.plot(tsQuantile['ds'],tsQuantile['y'],c='#1f77b4')\n",
    "        if(testData is not None):\n",
    "            ax.plot(testData.index,testData['y'],c='#1f77b4')\n",
    "            ax.plot(df_model_test_equantileDF['ds'],df_model_test_equantileDF['y'],c='#8c564b')\n",
    "            #ax.plot(df_model_test_equantile.index.values[1:],df_model_test_equantile[1:],c='#8c564b')\n",
    "        if(use_median):\n",
    "            ax.plot([x_start_med_line,x_end_med_line],[y_start_med_line,y_end_med_line],c='#2ca02c')\n",
    "            ax.plot([x_forecast_start_med_line,x_forecast_end_med_line],[y_forecast_start_med_line,y_forecast_end_med_line],c='#2ca02c', linestyle='--', dashes=(5, 10), label='_nolegend_')\n",
    "            #Bounds\n",
    "            ax.fill_between([x_forecast_start_med_line,x_forecast_end_med_line],[y_forecast_start_extrap_lwr_med,y_forecast_end_extrap_lwr_med],[y_forecast_start_extrap_hghr_med,y_forecast_end_extrap_hghr_med], facecolor='#2ca02c', alpha=0.5)\n",
    "            \n",
    "        if(use_equantile):\n",
    "            ax.plot([x_start_med_line,x_end_med_line],[y_start_extrap_line,y_end_extrap_line],c='#ff7f0e')\n",
    "            ax.plot([x_forecast_start_med_line,x_forecast_end_med_line],[y_forecast_start_extrap_line,y_forecast_end_extrap_line],c='#ff7f0e', linestyle='--', dashes=(5, 10), label='_nolegend_')\n",
    "            #Bounds\n",
    "            ax.fill_between([x_forecast_start_med_line,x_forecast_end_med_line],[y_forecast_start_extrap_lwr_ninetyp,y_forecast_end_extrap_lwr_ninetyp],[y_forecast_start_extrap_hghr_ninetyp,y_forecast_end_extrap_hghr_ninetyp], facecolor='#ff7f0e', alpha=0.5)             \n",
    "        \n",
    "        ax.set_title(podName , fontsize=20)\n",
    "        ax.set_xlabel('Time (d)')\n",
    "        ax.set_ylabel('CPU Utilization (%)')\n",
    "        if(use_median & use_equantile):\n",
    "            ax.legend(['Training data','Median quantile regression line', '90P quantile regression line'])\n",
    "        elif(use_median):\n",
    "            ax.legend(['Training data','Median quantile regression line'])\n",
    "        elif(use_equantile):\n",
    "            ax.legend(['Training data','90P quantile regression line'])\n",
    "        ax.axhline(y=50*topNodes,c='gray',linestyle='--')\n",
    "        ax.axvline(x=IRdate, c='gray', lw=4, alpha=0.5)\n",
    "        ax.text(x=(pd.to_datetime(IRdate) - pd.Timedelta('15 days')), y=15, s='IR Date', color='black', fontsize=16, fontweight='bold', alpha=0.8)\n",
    "        ax.grid(True)\n",
    "        plt.savefig(outdir+'quantile_'+podName+'.pdf',format='pdf')\n",
    "        plt.close(fig)\n",
    "\n",
    "        #Determine dates\n",
    "        if (use_equantile & use_median):\n",
    "            if(np.any(ninetyp_fitted_values >= capacity)) :\n",
    "                pessimisticTTL_quantile = tsQuantile['ds'][np.argmax(ninetyp_fitted_values >= capacity)]\n",
    "                optimisticTTL_quantile=pessimisticTTL_quantile\n",
    "            else :\n",
    "                pessimisticTTL_quantile = pred_ninetyp[pred_ninetyp['higher'] >= capacity]['ds'].min()\n",
    "                optimisticTTL_quantile = pred_ninetyp[pred_ninetyp['fit'] >= capacity]['ds'].min()\n",
    "        elif(use_equantile):\n",
    "            if(np.any(ninetyp_fitted_values >= capacity)) :\n",
    "                pessimisticTTL_quantile = tsQuantile['ds'][np.argmax(ninetyp_fitted_values >= capacity)]\n",
    "                optimisticTTL_quantile=pessimisticTTL_quantile\n",
    "            else :\n",
    "                pessimisticTTL_quantile = pred_ninetyp[pred_ninetyp['higher'] >= capacity]['ds'].min()\n",
    "                optimisticTTL_quantile = pred_ninetyp[pred_ninetyp['fit'] >= capacity]['ds'].min()\n",
    "        elif(use_median):\n",
    "            if(np.any(med_fitted_values >= capacity)) :\n",
    "                pessimisticTTL_quantile = tsQuantile['ds'][np.argmax(med_fitted_values >= capacity)]\n",
    "                optimisticTTL_quantile=pessimisticTTL_quantile\n",
    "            else :\n",
    "                pessimisticTTL_quantile = pred_median[pred_median['higher'] >= capacity]['ds'].min()\n",
    "                optimisticTTL_quantile = pred_median[pred_median['fit'] >= capacity]['ds'].min()\n",
    "        else:\n",
    "            pessimisticTTL_quantile=TTL_NOTPOSSIBLE \n",
    "            optimisticTTL_quantile=TTL_NOTPOSSIBLE\n",
    "            \n",
    "        \n",
    "    \n",
    "        \n",
    "    return pessimisticTTL_quantile, optimisticTTL_quantile, rms_test, MAE_test, MAPE_test     "
   ]
  },
  {
   "cell_type": "markdown",
   "metadata": {},
   "source": [
    "Train/test set-up"
   ]
  },
  {
   "cell_type": "code",
   "execution_count": 117,
   "metadata": {},
   "outputs": [
    {
     "name": "stdout",
     "output_type": "stream",
     "text": [
      "na50\n"
     ]
    },
    {
     "name": "stderr",
     "output_type": "stream",
     "text": [
      "/Users/abertran/anaconda3/lib/python3.6/site-packages/ipykernel_launcher.py:38: DeprecationWarning: parsing timezone aware datetimes is deprecated; this will raise an error in the future\n",
      "/Users/abertran/anaconda3/lib/python3.6/site-packages/ipykernel_launcher.py:154: DeprecationWarning: parsing timezone aware datetimes is deprecated; this will raise an error in the future\n",
      "/Users/abertran/anaconda3/lib/python3.6/site-packages/ipykernel_launcher.py:72: FutureWarning: to_datetime is deprecated. Use self.to_pydatetime()\n",
      "/Users/abertran/anaconda3/lib/python3.6/site-packages/ipykernel_launcher.py:38: DeprecationWarning: parsing timezone aware datetimes is deprecated; this will raise an error in the future\n"
     ]
    },
    {
     "name": "stdout",
     "output_type": "stream",
     "text": [
      "na8\n"
     ]
    },
    {
     "name": "stderr",
     "output_type": "stream",
     "text": [
      "/Users/abertran/anaconda3/lib/python3.6/site-packages/ipykernel_launcher.py:154: DeprecationWarning: parsing timezone aware datetimes is deprecated; this will raise an error in the future\n",
      "/Users/abertran/anaconda3/lib/python3.6/site-packages/ipykernel_launcher.py:72: FutureWarning: to_datetime is deprecated. Use self.to_pydatetime()\n"
     ]
    },
    {
     "name": "stdout",
     "output_type": "stream",
     "text": [
      "eu11\n"
     ]
    },
    {
     "name": "stderr",
     "output_type": "stream",
     "text": [
      "/Users/abertran/anaconda3/lib/python3.6/site-packages/ipykernel_launcher.py:38: DeprecationWarning: parsing timezone aware datetimes is deprecated; this will raise an error in the future\n",
      "/Users/abertran/anaconda3/lib/python3.6/site-packages/ipykernel_launcher.py:154: DeprecationWarning: parsing timezone aware datetimes is deprecated; this will raise an error in the future\n",
      "/Users/abertran/anaconda3/lib/python3.6/site-packages/ipykernel_launcher.py:72: FutureWarning: to_datetime is deprecated. Use self.to_pydatetime()\n"
     ]
    },
    {
     "name": "stdout",
     "output_type": "stream",
     "text": [
      "na53\n"
     ]
    },
    {
     "name": "stderr",
     "output_type": "stream",
     "text": [
      "/Users/abertran/anaconda3/lib/python3.6/site-packages/ipykernel_launcher.py:38: DeprecationWarning: parsing timezone aware datetimes is deprecated; this will raise an error in the future\n",
      "/Users/abertran/anaconda3/lib/python3.6/site-packages/ipykernel_launcher.py:154: DeprecationWarning: parsing timezone aware datetimes is deprecated; this will raise an error in the future\n",
      "/Users/abertran/anaconda3/lib/python3.6/site-packages/ipykernel_launcher.py:72: FutureWarning: to_datetime is deprecated. Use self.to_pydatetime()\n",
      "/Users/abertran/anaconda3/lib/python3.6/site-packages/ipykernel_launcher.py:38: DeprecationWarning: parsing timezone aware datetimes is deprecated; this will raise an error in the future\n"
     ]
    },
    {
     "name": "stdout",
     "output_type": "stream",
     "text": [
      "ap0\n"
     ]
    },
    {
     "name": "stderr",
     "output_type": "stream",
     "text": [
      "/Users/abertran/anaconda3/lib/python3.6/site-packages/ipykernel_launcher.py:154: DeprecationWarning: parsing timezone aware datetimes is deprecated; this will raise an error in the future\n",
      "/Users/abertran/anaconda3/lib/python3.6/site-packages/ipykernel_launcher.py:72: FutureWarning: to_datetime is deprecated. Use self.to_pydatetime()\n",
      "/Users/abertran/anaconda3/lib/python3.6/site-packages/ipykernel_launcher.py:38: DeprecationWarning: parsing timezone aware datetimes is deprecated; this will raise an error in the future\n"
     ]
    },
    {
     "name": "stdout",
     "output_type": "stream",
     "text": [
      "na44\n"
     ]
    },
    {
     "name": "stderr",
     "output_type": "stream",
     "text": [
      "/Users/abertran/anaconda3/lib/python3.6/site-packages/ipykernel_launcher.py:154: DeprecationWarning: parsing timezone aware datetimes is deprecated; this will raise an error in the future\n",
      "/Users/abertran/anaconda3/lib/python3.6/site-packages/ipykernel_launcher.py:72: FutureWarning: to_datetime is deprecated. Use self.to_pydatetime()\n",
      "/Users/abertran/anaconda3/lib/python3.6/site-packages/ipykernel_launcher.py:38: DeprecationWarning: parsing timezone aware datetimes is deprecated; this will raise an error in the future\n"
     ]
    },
    {
     "name": "stdout",
     "output_type": "stream",
     "text": [
      "eu9\n"
     ]
    },
    {
     "name": "stderr",
     "output_type": "stream",
     "text": [
      "/Users/abertran/anaconda3/lib/python3.6/site-packages/ipykernel_launcher.py:154: DeprecationWarning: parsing timezone aware datetimes is deprecated; this will raise an error in the future\n",
      "/Users/abertran/anaconda3/lib/python3.6/site-packages/ipykernel_launcher.py:72: FutureWarning: to_datetime is deprecated. Use self.to_pydatetime()\n"
     ]
    },
    {
     "name": "stdout",
     "output_type": "stream",
     "text": [
      "na30\n"
     ]
    },
    {
     "name": "stderr",
     "output_type": "stream",
     "text": [
      "/Users/abertran/anaconda3/lib/python3.6/site-packages/ipykernel_launcher.py:38: DeprecationWarning: parsing timezone aware datetimes is deprecated; this will raise an error in the future\n"
     ]
    },
    {
     "name": "stdout",
     "output_type": "stream",
     "text": [
      "na49\n"
     ]
    },
    {
     "name": "stderr",
     "output_type": "stream",
     "text": [
      "/Users/abertran/anaconda3/lib/python3.6/site-packages/ipykernel_launcher.py:38: DeprecationWarning: parsing timezone aware datetimes is deprecated; this will raise an error in the future\n",
      "/Users/abertran/anaconda3/lib/python3.6/site-packages/ipykernel_launcher.py:154: DeprecationWarning: parsing timezone aware datetimes is deprecated; this will raise an error in the future\n",
      "/Users/abertran/anaconda3/lib/python3.6/site-packages/ipykernel_launcher.py:72: FutureWarning: to_datetime is deprecated. Use self.to_pydatetime()\n",
      "/Users/abertran/anaconda3/lib/python3.6/site-packages/ipykernel_launcher.py:38: DeprecationWarning: parsing timezone aware datetimes is deprecated; this will raise an error in the future\n"
     ]
    },
    {
     "name": "stdout",
     "output_type": "stream",
     "text": [
      "eu6\n"
     ]
    },
    {
     "name": "stderr",
     "output_type": "stream",
     "text": [
      "/Users/abertran/anaconda3/lib/python3.6/site-packages/ipykernel_launcher.py:154: DeprecationWarning: parsing timezone aware datetimes is deprecated; this will raise an error in the future\n",
      "/Users/abertran/anaconda3/lib/python3.6/site-packages/ipykernel_launcher.py:72: FutureWarning: to_datetime is deprecated. Use self.to_pydatetime()\n"
     ]
    },
    {
     "name": "stdout",
     "output_type": "stream",
     "text": [
      "eu5\n"
     ]
    },
    {
     "name": "stderr",
     "output_type": "stream",
     "text": [
      "/Users/abertran/anaconda3/lib/python3.6/site-packages/ipykernel_launcher.py:38: DeprecationWarning: parsing timezone aware datetimes is deprecated; this will raise an error in the future\n",
      "/Users/abertran/anaconda3/lib/python3.6/site-packages/ipykernel_launcher.py:154: DeprecationWarning: parsing timezone aware datetimes is deprecated; this will raise an error in the future\n",
      "/Users/abertran/anaconda3/lib/python3.6/site-packages/ipykernel_launcher.py:72: FutureWarning: to_datetime is deprecated. Use self.to_pydatetime()\n",
      "/Users/abertran/anaconda3/lib/python3.6/site-packages/ipykernel_launcher.py:38: DeprecationWarning: parsing timezone aware datetimes is deprecated; this will raise an error in the future\n"
     ]
    },
    {
     "name": "stdout",
     "output_type": "stream",
     "text": [
      "na33\n"
     ]
    },
    {
     "name": "stderr",
     "output_type": "stream",
     "text": [
      "/Users/abertran/anaconda3/lib/python3.6/site-packages/ipykernel_launcher.py:154: DeprecationWarning: parsing timezone aware datetimes is deprecated; this will raise an error in the future\n",
      "/Users/abertran/anaconda3/lib/python3.6/site-packages/ipykernel_launcher.py:72: FutureWarning: to_datetime is deprecated. Use self.to_pydatetime()\n"
     ]
    },
    {
     "name": "stdout",
     "output_type": "stream",
     "text": [
      "na42\n"
     ]
    },
    {
     "name": "stderr",
     "output_type": "stream",
     "text": [
      "/Users/abertran/anaconda3/lib/python3.6/site-packages/ipykernel_launcher.py:38: DeprecationWarning: parsing timezone aware datetimes is deprecated; this will raise an error in the future\n",
      "/Users/abertran/anaconda3/lib/python3.6/site-packages/ipykernel_launcher.py:154: DeprecationWarning: parsing timezone aware datetimes is deprecated; this will raise an error in the future\n",
      "/Users/abertran/anaconda3/lib/python3.6/site-packages/ipykernel_launcher.py:72: FutureWarning: to_datetime is deprecated. Use self.to_pydatetime()\n"
     ]
    },
    {
     "name": "stdout",
     "output_type": "stream",
     "text": [
      "ap1\n"
     ]
    },
    {
     "name": "stderr",
     "output_type": "stream",
     "text": [
      "/Users/abertran/anaconda3/lib/python3.6/site-packages/ipykernel_launcher.py:38: DeprecationWarning: parsing timezone aware datetimes is deprecated; this will raise an error in the future\n",
      "/Users/abertran/anaconda3/lib/python3.6/site-packages/ipykernel_launcher.py:154: DeprecationWarning: parsing timezone aware datetimes is deprecated; this will raise an error in the future\n",
      "/Users/abertran/anaconda3/lib/python3.6/site-packages/ipykernel_launcher.py:72: FutureWarning: to_datetime is deprecated. Use self.to_pydatetime()\n",
      "/Users/abertran/anaconda3/lib/python3.6/site-packages/ipykernel_launcher.py:38: DeprecationWarning: parsing timezone aware datetimes is deprecated; this will raise an error in the future\n"
     ]
    },
    {
     "name": "stdout",
     "output_type": "stream",
     "text": [
      "na45\n"
     ]
    },
    {
     "name": "stderr",
     "output_type": "stream",
     "text": [
      "/Users/abertran/anaconda3/lib/python3.6/site-packages/ipykernel_launcher.py:154: DeprecationWarning: parsing timezone aware datetimes is deprecated; this will raise an error in the future\n",
      "/Users/abertran/anaconda3/lib/python3.6/site-packages/ipykernel_launcher.py:72: FutureWarning: to_datetime is deprecated. Use self.to_pydatetime()\n"
     ]
    },
    {
     "name": "stdout",
     "output_type": "stream",
     "text": [
      "na6\n"
     ]
    },
    {
     "name": "stderr",
     "output_type": "stream",
     "text": [
      "/Users/abertran/anaconda3/lib/python3.6/site-packages/ipykernel_launcher.py:38: DeprecationWarning: parsing timezone aware datetimes is deprecated; this will raise an error in the future\n",
      "/Users/abertran/anaconda3/lib/python3.6/site-packages/ipykernel_launcher.py:154: DeprecationWarning: parsing timezone aware datetimes is deprecated; this will raise an error in the future\n",
      "/Users/abertran/anaconda3/lib/python3.6/site-packages/ipykernel_launcher.py:72: FutureWarning: to_datetime is deprecated. Use self.to_pydatetime()\n"
     ]
    },
    {
     "name": "stdout",
     "output_type": "stream",
     "text": [
      "na7\n"
     ]
    },
    {
     "name": "stderr",
     "output_type": "stream",
     "text": [
      "/Users/abertran/anaconda3/lib/python3.6/site-packages/ipykernel_launcher.py:38: DeprecationWarning: parsing timezone aware datetimes is deprecated; this will raise an error in the future\n",
      "/Users/abertran/anaconda3/lib/python3.6/site-packages/ipykernel_launcher.py:154: DeprecationWarning: parsing timezone aware datetimes is deprecated; this will raise an error in the future\n",
      "/Users/abertran/anaconda3/lib/python3.6/site-packages/ipykernel_launcher.py:72: FutureWarning: to_datetime is deprecated. Use self.to_pydatetime()\n",
      "/Users/abertran/anaconda3/lib/python3.6/site-packages/ipykernel_launcher.py:38: DeprecationWarning: parsing timezone aware datetimes is deprecated; this will raise an error in the future\n"
     ]
    },
    {
     "name": "stdout",
     "output_type": "stream",
     "text": [
      "na43\n"
     ]
    },
    {
     "name": "stderr",
     "output_type": "stream",
     "text": [
      "/Users/abertran/anaconda3/lib/python3.6/site-packages/ipykernel_launcher.py:154: DeprecationWarning: parsing timezone aware datetimes is deprecated; this will raise an error in the future\n",
      "/Users/abertran/anaconda3/lib/python3.6/site-packages/ipykernel_launcher.py:72: FutureWarning: to_datetime is deprecated. Use self.to_pydatetime()\n"
     ]
    },
    {
     "name": "stdout",
     "output_type": "stream",
     "text": [
      "na39\n"
     ]
    },
    {
     "name": "stderr",
     "output_type": "stream",
     "text": [
      "/Users/abertran/anaconda3/lib/python3.6/site-packages/ipykernel_launcher.py:38: DeprecationWarning: parsing timezone aware datetimes is deprecated; this will raise an error in the future\n",
      "/Users/abertran/anaconda3/lib/python3.6/site-packages/ipykernel_launcher.py:154: DeprecationWarning: parsing timezone aware datetimes is deprecated; this will raise an error in the future\n",
      "/Users/abertran/anaconda3/lib/python3.6/site-packages/ipykernel_launcher.py:72: FutureWarning: to_datetime is deprecated. Use self.to_pydatetime()\n"
     ]
    },
    {
     "name": "stdout",
     "output_type": "stream",
     "text": [
      "na35\n"
     ]
    },
    {
     "name": "stderr",
     "output_type": "stream",
     "text": [
      "/Users/abertran/anaconda3/lib/python3.6/site-packages/ipykernel_launcher.py:38: DeprecationWarning: parsing timezone aware datetimes is deprecated; this will raise an error in the future\n",
      "/Users/abertran/anaconda3/lib/python3.6/site-packages/ipykernel_launcher.py:154: DeprecationWarning: parsing timezone aware datetimes is deprecated; this will raise an error in the future\n",
      "/Users/abertran/anaconda3/lib/python3.6/site-packages/ipykernel_launcher.py:72: FutureWarning: to_datetime is deprecated. Use self.to_pydatetime()\n"
     ]
    },
    {
     "name": "stdout",
     "output_type": "stream",
     "text": [
      "na47\n"
     ]
    },
    {
     "name": "stderr",
     "output_type": "stream",
     "text": [
      "/Users/abertran/anaconda3/lib/python3.6/site-packages/ipykernel_launcher.py:38: DeprecationWarning: parsing timezone aware datetimes is deprecated; this will raise an error in the future\n",
      "/Users/abertran/anaconda3/lib/python3.6/site-packages/ipykernel_launcher.py:154: DeprecationWarning: parsing timezone aware datetimes is deprecated; this will raise an error in the future\n",
      "/Users/abertran/anaconda3/lib/python3.6/site-packages/ipykernel_launcher.py:72: FutureWarning: to_datetime is deprecated. Use self.to_pydatetime()\n"
     ]
    },
    {
     "name": "stdout",
     "output_type": "stream",
     "text": [
      "na46\n"
     ]
    },
    {
     "name": "stderr",
     "output_type": "stream",
     "text": [
      "/Users/abertran/anaconda3/lib/python3.6/site-packages/ipykernel_launcher.py:38: DeprecationWarning: parsing timezone aware datetimes is deprecated; this will raise an error in the future\n",
      "/Users/abertran/anaconda3/lib/python3.6/site-packages/ipykernel_launcher.py:154: DeprecationWarning: parsing timezone aware datetimes is deprecated; this will raise an error in the future\n",
      "/Users/abertran/anaconda3/lib/python3.6/site-packages/ipykernel_launcher.py:72: FutureWarning: to_datetime is deprecated. Use self.to_pydatetime()\n"
     ]
    },
    {
     "name": "stdout",
     "output_type": "stream",
     "text": [
      "ap5\n"
     ]
    },
    {
     "name": "stderr",
     "output_type": "stream",
     "text": [
      "/Users/abertran/anaconda3/lib/python3.6/site-packages/ipykernel_launcher.py:38: DeprecationWarning: parsing timezone aware datetimes is deprecated; this will raise an error in the future\n",
      "/Users/abertran/anaconda3/lib/python3.6/site-packages/ipykernel_launcher.py:154: DeprecationWarning: parsing timezone aware datetimes is deprecated; this will raise an error in the future\n",
      "/Users/abertran/anaconda3/lib/python3.6/site-packages/ipykernel_launcher.py:72: FutureWarning: to_datetime is deprecated. Use self.to_pydatetime()\n"
     ]
    },
    {
     "name": "stdout",
     "output_type": "stream",
     "text": [
      "eu1\n"
     ]
    },
    {
     "name": "stderr",
     "output_type": "stream",
     "text": [
      "/Users/abertran/anaconda3/lib/python3.6/site-packages/ipykernel_launcher.py:38: DeprecationWarning: parsing timezone aware datetimes is deprecated; this will raise an error in the future\n",
      "/Users/abertran/anaconda3/lib/python3.6/site-packages/ipykernel_launcher.py:154: DeprecationWarning: parsing timezone aware datetimes is deprecated; this will raise an error in the future\n",
      "/Users/abertran/anaconda3/lib/python3.6/site-packages/ipykernel_launcher.py:72: FutureWarning: to_datetime is deprecated. Use self.to_pydatetime()\n"
     ]
    },
    {
     "name": "stdout",
     "output_type": "stream",
     "text": [
      "na3\n"
     ]
    },
    {
     "name": "stderr",
     "output_type": "stream",
     "text": [
      "/Users/abertran/anaconda3/lib/python3.6/site-packages/ipykernel_launcher.py:38: DeprecationWarning: parsing timezone aware datetimes is deprecated; this will raise an error in the future\n",
      "/Users/abertran/anaconda3/lib/python3.6/site-packages/ipykernel_launcher.py:154: DeprecationWarning: parsing timezone aware datetimes is deprecated; this will raise an error in the future\n",
      "/Users/abertran/anaconda3/lib/python3.6/site-packages/ipykernel_launcher.py:72: FutureWarning: to_datetime is deprecated. Use self.to_pydatetime()\n",
      "/Users/abertran/anaconda3/lib/python3.6/site-packages/ipykernel_launcher.py:38: DeprecationWarning: parsing timezone aware datetimes is deprecated; this will raise an error in the future\n"
     ]
    },
    {
     "name": "stdout",
     "output_type": "stream",
     "text": [
      "na31\n"
     ]
    },
    {
     "name": "stderr",
     "output_type": "stream",
     "text": [
      "/Users/abertran/anaconda3/lib/python3.6/site-packages/ipykernel_launcher.py:154: DeprecationWarning: parsing timezone aware datetimes is deprecated; this will raise an error in the future\n",
      "/Users/abertran/anaconda3/lib/python3.6/site-packages/ipykernel_launcher.py:72: FutureWarning: to_datetime is deprecated. Use self.to_pydatetime()\n",
      "/Users/abertran/anaconda3/lib/python3.6/site-packages/ipykernel_launcher.py:38: DeprecationWarning: parsing timezone aware datetimes is deprecated; this will raise an error in the future\n"
     ]
    },
    {
     "name": "stdout",
     "output_type": "stream",
     "text": [
      "na34\n"
     ]
    },
    {
     "name": "stderr",
     "output_type": "stream",
     "text": [
      "/Users/abertran/anaconda3/lib/python3.6/site-packages/ipykernel_launcher.py:154: DeprecationWarning: parsing timezone aware datetimes is deprecated; this will raise an error in the future\n",
      "/Users/abertran/anaconda3/lib/python3.6/site-packages/ipykernel_launcher.py:72: FutureWarning: to_datetime is deprecated. Use self.to_pydatetime()\n"
     ]
    },
    {
     "name": "stdout",
     "output_type": "stream",
     "text": [
      "ap4\n"
     ]
    },
    {
     "name": "stderr",
     "output_type": "stream",
     "text": [
      "/Users/abertran/anaconda3/lib/python3.6/site-packages/ipykernel_launcher.py:38: DeprecationWarning: parsing timezone aware datetimes is deprecated; this will raise an error in the future\n",
      "/Users/abertran/anaconda3/lib/python3.6/site-packages/ipykernel_launcher.py:154: DeprecationWarning: parsing timezone aware datetimes is deprecated; this will raise an error in the future\n",
      "/Users/abertran/anaconda3/lib/python3.6/site-packages/ipykernel_launcher.py:72: FutureWarning: to_datetime is deprecated. Use self.to_pydatetime()\n"
     ]
    },
    {
     "name": "stdout",
     "output_type": "stream",
     "text": [
      "ap6\n"
     ]
    },
    {
     "name": "stderr",
     "output_type": "stream",
     "text": [
      "/Users/abertran/anaconda3/lib/python3.6/site-packages/ipykernel_launcher.py:38: DeprecationWarning: parsing timezone aware datetimes is deprecated; this will raise an error in the future\n",
      "/Users/abertran/anaconda3/lib/python3.6/site-packages/ipykernel_launcher.py:154: DeprecationWarning: parsing timezone aware datetimes is deprecated; this will raise an error in the future\n",
      "/Users/abertran/anaconda3/lib/python3.6/site-packages/ipykernel_launcher.py:72: FutureWarning: to_datetime is deprecated. Use self.to_pydatetime()\n",
      "/Users/abertran/anaconda3/lib/python3.6/site-packages/ipykernel_launcher.py:38: DeprecationWarning: parsing timezone aware datetimes is deprecated; this will raise an error in the future\n"
     ]
    },
    {
     "name": "stdout",
     "output_type": "stream",
     "text": [
      "na48\n"
     ]
    },
    {
     "name": "stderr",
     "output_type": "stream",
     "text": [
      "/Users/abertran/anaconda3/lib/python3.6/site-packages/ipykernel_launcher.py:154: DeprecationWarning: parsing timezone aware datetimes is deprecated; this will raise an error in the future\n",
      "/Users/abertran/anaconda3/lib/python3.6/site-packages/ipykernel_launcher.py:72: FutureWarning: to_datetime is deprecated. Use self.to_pydatetime()\n"
     ]
    },
    {
     "name": "stdout",
     "output_type": "stream",
     "text": [
      "na51\n"
     ]
    },
    {
     "name": "stderr",
     "output_type": "stream",
     "text": [
      "/Users/abertran/anaconda3/lib/python3.6/site-packages/ipykernel_launcher.py:38: DeprecationWarning: parsing timezone aware datetimes is deprecated; this will raise an error in the future\n",
      "/Users/abertran/anaconda3/lib/python3.6/site-packages/ipykernel_launcher.py:154: DeprecationWarning: parsing timezone aware datetimes is deprecated; this will raise an error in the future\n",
      "/Users/abertran/anaconda3/lib/python3.6/site-packages/ipykernel_launcher.py:72: FutureWarning: to_datetime is deprecated. Use self.to_pydatetime()\n",
      "/Users/abertran/anaconda3/lib/python3.6/site-packages/ipykernel_launcher.py:38: DeprecationWarning: parsing timezone aware datetimes is deprecated; this will raise an error in the future\n"
     ]
    },
    {
     "name": "stdout",
     "output_type": "stream",
     "text": [
      "na37\n"
     ]
    },
    {
     "name": "stderr",
     "output_type": "stream",
     "text": [
      "/Users/abertran/anaconda3/lib/python3.6/site-packages/ipykernel_launcher.py:154: DeprecationWarning: parsing timezone aware datetimes is deprecated; this will raise an error in the future\n",
      "/Users/abertran/anaconda3/lib/python3.6/site-packages/ipykernel_launcher.py:72: FutureWarning: to_datetime is deprecated. Use self.to_pydatetime()\n"
     ]
    },
    {
     "name": "stdout",
     "output_type": "stream",
     "text": [
      "na29\n"
     ]
    },
    {
     "name": "stderr",
     "output_type": "stream",
     "text": [
      "/Users/abertran/anaconda3/lib/python3.6/site-packages/ipykernel_launcher.py:38: DeprecationWarning: parsing timezone aware datetimes is deprecated; this will raise an error in the future\n",
      "/Users/abertran/anaconda3/lib/python3.6/site-packages/ipykernel_launcher.py:154: DeprecationWarning: parsing timezone aware datetimes is deprecated; this will raise an error in the future\n",
      "/Users/abertran/anaconda3/lib/python3.6/site-packages/ipykernel_launcher.py:72: FutureWarning: to_datetime is deprecated. Use self.to_pydatetime()\n",
      "/Users/abertran/anaconda3/lib/python3.6/site-packages/ipykernel_launcher.py:38: DeprecationWarning: parsing timezone aware datetimes is deprecated; this will raise an error in the future\n"
     ]
    },
    {
     "name": "stdout",
     "output_type": "stream",
     "text": [
      "eu7\n"
     ]
    },
    {
     "name": "stderr",
     "output_type": "stream",
     "text": [
      "/Users/abertran/anaconda3/lib/python3.6/site-packages/ipykernel_launcher.py:154: DeprecationWarning: parsing timezone aware datetimes is deprecated; this will raise an error in the future\n",
      "/Users/abertran/anaconda3/lib/python3.6/site-packages/ipykernel_launcher.py:72: FutureWarning: to_datetime is deprecated. Use self.to_pydatetime()\n"
     ]
    },
    {
     "name": "stdout",
     "output_type": "stream",
     "text": [
      "ap7\n"
     ]
    },
    {
     "name": "stderr",
     "output_type": "stream",
     "text": [
      "/Users/abertran/anaconda3/lib/python3.6/site-packages/ipykernel_launcher.py:38: DeprecationWarning: parsing timezone aware datetimes is deprecated; this will raise an error in the future\n",
      "/Users/abertran/anaconda3/lib/python3.6/site-packages/ipykernel_launcher.py:154: DeprecationWarning: parsing timezone aware datetimes is deprecated; this will raise an error in the future\n",
      "/Users/abertran/anaconda3/lib/python3.6/site-packages/ipykernel_launcher.py:72: FutureWarning: to_datetime is deprecated. Use self.to_pydatetime()\n"
     ]
    },
    {
     "name": "stdout",
     "output_type": "stream",
     "text": [
      "na38\n"
     ]
    },
    {
     "name": "stderr",
     "output_type": "stream",
     "text": [
      "/Users/abertran/anaconda3/lib/python3.6/site-packages/ipykernel_launcher.py:38: DeprecationWarning: parsing timezone aware datetimes is deprecated; this will raise an error in the future\n",
      "/Users/abertran/anaconda3/lib/python3.6/site-packages/ipykernel_launcher.py:154: DeprecationWarning: parsing timezone aware datetimes is deprecated; this will raise an error in the future\n",
      "/Users/abertran/anaconda3/lib/python3.6/site-packages/ipykernel_launcher.py:72: FutureWarning: to_datetime is deprecated. Use self.to_pydatetime()\n"
     ]
    },
    {
     "name": "stdout",
     "output_type": "stream",
     "text": [
      "na32\n"
     ]
    },
    {
     "name": "stderr",
     "output_type": "stream",
     "text": [
      "/Users/abertran/anaconda3/lib/python3.6/site-packages/ipykernel_launcher.py:38: DeprecationWarning: parsing timezone aware datetimes is deprecated; this will raise an error in the future\n",
      "/Users/abertran/anaconda3/lib/python3.6/site-packages/ipykernel_launcher.py:154: DeprecationWarning: parsing timezone aware datetimes is deprecated; this will raise an error in the future\n",
      "/Users/abertran/anaconda3/lib/python3.6/site-packages/ipykernel_launcher.py:72: FutureWarning: to_datetime is deprecated. Use self.to_pydatetime()\n"
     ]
    },
    {
     "name": "stdout",
     "output_type": "stream",
     "text": [
      "na24\n"
     ]
    },
    {
     "name": "stderr",
     "output_type": "stream",
     "text": [
      "/Users/abertran/anaconda3/lib/python3.6/site-packages/ipykernel_launcher.py:38: DeprecationWarning: parsing timezone aware datetimes is deprecated; this will raise an error in the future\n",
      "/Users/abertran/anaconda3/lib/python3.6/site-packages/ipykernel_launcher.py:154: DeprecationWarning: parsing timezone aware datetimes is deprecated; this will raise an error in the future\n",
      "/Users/abertran/anaconda3/lib/python3.6/site-packages/ipykernel_launcher.py:72: FutureWarning: to_datetime is deprecated. Use self.to_pydatetime()\n"
     ]
    },
    {
     "name": "stdout",
     "output_type": "stream",
     "text": [
      "ap3\n"
     ]
    },
    {
     "name": "stderr",
     "output_type": "stream",
     "text": [
      "/Users/abertran/anaconda3/lib/python3.6/site-packages/ipykernel_launcher.py:38: DeprecationWarning: parsing timezone aware datetimes is deprecated; this will raise an error in the future\n",
      "/Users/abertran/anaconda3/lib/python3.6/site-packages/ipykernel_launcher.py:154: DeprecationWarning: parsing timezone aware datetimes is deprecated; this will raise an error in the future\n",
      "/Users/abertran/anaconda3/lib/python3.6/site-packages/ipykernel_launcher.py:72: FutureWarning: to_datetime is deprecated. Use self.to_pydatetime()\n",
      "/Users/abertran/anaconda3/lib/python3.6/site-packages/ipykernel_launcher.py:38: DeprecationWarning: parsing timezone aware datetimes is deprecated; this will raise an error in the future\n"
     ]
    },
    {
     "name": "stdout",
     "output_type": "stream",
     "text": [
      "na52\n"
     ]
    },
    {
     "name": "stderr",
     "output_type": "stream",
     "text": [
      "/Users/abertran/anaconda3/lib/python3.6/site-packages/ipykernel_launcher.py:154: DeprecationWarning: parsing timezone aware datetimes is deprecated; this will raise an error in the future\n",
      "/Users/abertran/anaconda3/lib/python3.6/site-packages/ipykernel_launcher.py:72: FutureWarning: to_datetime is deprecated. Use self.to_pydatetime()\n",
      "/Users/abertran/anaconda3/lib/python3.6/site-packages/ipykernel_launcher.py:38: DeprecationWarning: parsing timezone aware datetimes is deprecated; this will raise an error in the future\n"
     ]
    },
    {
     "name": "stdout",
     "output_type": "stream",
     "text": [
      "na40\n"
     ]
    },
    {
     "name": "stderr",
     "output_type": "stream",
     "text": [
      "/Users/abertran/anaconda3/lib/python3.6/site-packages/ipykernel_launcher.py:154: DeprecationWarning: parsing timezone aware datetimes is deprecated; this will raise an error in the future\n",
      "/Users/abertran/anaconda3/lib/python3.6/site-packages/ipykernel_launcher.py:72: FutureWarning: to_datetime is deprecated. Use self.to_pydatetime()\n"
     ]
    }
   ],
   "source": [
    "outdir='/Users/abertran/Documents/Results/ForecastResults/dbCPUUtil/01222018/'\n",
    "import csv\n",
    "import os\n",
    "\n",
    "try:\n",
    "    os.remove(outdir+'ForecastResults_dbcpu.csv')\n",
    "except OSError:\n",
    "    pass\n",
    "\n",
    "ttl_labels=[\"Pod Name\", \"Prophet Pessimistic TTL\", \"Prophet optimistic TTL\", \"Quantile pessimistic TTL\", \"Quantile optimistic TTL\",\"rms test data prophet\", \"MAE test data prophet\", \"MAPE test data prophet\",\"rms test data quantile\", \"MAE test data quantile\", \"MAPE test data quantile\"]\n",
    "with open(outdir+'ForecastResults_dbcpu.csv', 'a') as myfile:\n",
    "        wr = csv.writer(myfile, quoting=csv.QUOTE_ALL)\n",
    "        wr.writerow(ttl_labels)\n",
    "\n",
    "for podName in pod_list:\n",
    "    print(podName)\n",
    "    #podName='na32'    \n",
    "\n",
    "    numNodes = pod.loc[podName]['servers']\n",
    "    topNodes = numNodes - 1\n",
    "    capacity = topNodes * dbCpuCapacity\n",
    "\n",
    "    # various dates to be aware of\n",
    "    IRdate = pod.loc[podName]['IRdate']\n",
    "\n",
    "    holidays = pd.DataFrame({\n",
    "    'holiday': 'holiday',\n",
    "    'ds': getHolidays(start='20-Nov-2016', end=IRdate).strftime('%d-%b-%Y'),\n",
    "    'lower_window': -1,\n",
    "    'upper_window': 1,})\n",
    "\n",
    "    # fetch data for analysis\n",
    "    data = importArgusTimeSeriesCSV('/Users/abertran/Documents/gitRepositories/Steve_notebooks/SteveBobNotebooks/data/' + podName + '-cpu-capacity.csv')\n",
    "    tsCPU2 = pd.Series.to_frame(getRankedTimeSeries3(data, topNodes).sum(axis=1))\n",
    "\n",
    "    end_train_date=np.max(tsCPU2.index.values) \n",
    "    end_train_date=end_train_date -  pd.to_timedelta(60, unit='D')\n",
    "    end_train_date=(end_train_date - np.datetime64('1970-01-01T00:00:00Z')) / np.timedelta64(1, 's')\n",
    "    end_train_date = datetime.datetime.utcfromtimestamp(end_train_date)\n",
    "    \n",
    "    tsCPU2['ds'] = pd.to_datetime(tsCPU2.index.values) \n",
    "    mask = (tsCPU2['ds'] <= end_train_date)\n",
    "    df_model_train = tsCPU2.loc[mask]\n",
    "    mask = (tsCPU2['ds'] > end_train_date)\n",
    "    df_model_test = tsCPU2.loc[mask]\n",
    "    #training_data_length=int(np.round(0.80*tsCPU2.shape[0]))\n",
    "\n",
    "    #df_model_train = tsCPU2[0:training_data_length]\n",
    "    #df_model_test=tsCPU2[training_data_length:]\n",
    "\n",
    "    # dbCPU changepoints and reasons\n",
    "    cpd = pod.loc[podName]['cpd'].split(',') if not pd.isnull(pod.loc[podName]['cpd']) else None\n",
    "    cpt = pod.loc[podName]['cpt'].split(',') if not pd.isnull(pod.loc[podName]['cpt']) else None\n",
    "    cpl = {'Title': cpt, 'changeDate': cpd} if not pd.isnull(pod.loc[podName]['cpd']) else None\n",
    "\n",
    "    dbCPUchangePoints = pd.DataFrame(data=cpl).reindex() if not pd.isnull(pod.loc[podName]['cpd']) else None\n",
    "    if dbCPUchangePoints is None:\n",
    "        dbCPUchangePointsAsDate=pd.to_datetime(cpd)\n",
    "    else:\n",
    "        dbCPUchangePoints['changeDate_asDate']=pd.to_datetime(dbCPUchangePoints['changeDate'])\n",
    "        mask= (dbCPUchangePoints['changeDate_asDate'] >= np.min(df_model_train.index)) & (dbCPUchangePoints['changeDate_asDate'] <= np.max(df_model_train.index))\n",
    "        dbCPUchangePoints = dbCPUchangePoints.loc[mask]\n",
    "        dbCPUchangePointsAsDate = dbCPUchangePoints['changeDate_asDate']#pd.to_datetime(cpd)      \n",
    "\n",
    "    #Prophet\n",
    "    #df_model_train['ds'] = df_model_train.index\n",
    "    df_model_train.columns = ['y','ds']\n",
    "    #df_model_test['ds'] = df_model_test.index\n",
    "    df_model_test.columns = ['y','ds']\n",
    "\n",
    "    pessimisticTTL_prophet,optimisticTTL_prophet, future,rms_test_prophet,MAE_test_prophet,MAPE_test_prophet=prophet_forecast(df_model_train, holidays, dbCPUchangePointsAsDate,topNodes, IRdate,outdir,df_model_test)\n",
    "    pessimisticTTL_quantile,optimisticTTL_quantile,rms_test_quantile,MAE_test_quantile,MAPE_test_quantile=quantile_forecast(df_model_train, IRdate, podName, future,outdir,df_model_test)\n",
    "\n",
    "    if rms_test_prophet is not None:\n",
    "        rms_test_prophet=round(rms_test_prophet,2)\n",
    "    if MAE_test_prophet is not None:\n",
    "        MAE_test_prophet=round(MAE_test_prophet,2)\n",
    "    if MAPE_test_prophet is not None:\n",
    "        MAPE_test_prophet=round(MAPE_test_prophet,2)\n",
    "    if rms_test_quantile is not None:\n",
    "        rms_test_quantile=round(rms_test_quantile,2)\n",
    "    if MAE_test_quantile is not None:\n",
    "        MAE_test_quantile=round(MAE_test_quantile,2)\n",
    "    if MAPE_test_quantile is not None:   \n",
    "        MAPE_test_quantile=round(MAPE_test_quantile,2)\n",
    "    ttl_times = [podName,pessimisticTTL_prophet, optimisticTTL_prophet, pessimisticTTL_quantile, optimisticTTL_quantile,rms_test_prophet, MAE_test_prophet, MAPE_test_prophet,rms_test_quantile,MAE_test_quantile,MAPE_test_quantile]\n",
    "\n",
    "    with open(outdir+'ForecastResults_dbcpu.csv', 'a') as myfile:\n",
    "        wr = csv.writer(myfile, quoting=csv.QUOTE_ALL)\n",
    "        wr.writerow(ttl_times)\n"
   ]
  },
  {
   "cell_type": "markdown",
   "metadata": {},
   "source": [
    "Current forecast"
   ]
  },
  {
   "cell_type": "code",
   "execution_count": 126,
   "metadata": {},
   "outputs": [
    {
     "name": "stdout",
     "output_type": "stream",
     "text": [
      "na50\n",
      "na8\n",
      "eu11\n",
      "na53\n",
      "ap0\n",
      "na44\n",
      "eu9\n",
      "na30\n"
     ]
    },
    {
     "name": "stderr",
     "output_type": "stream",
     "text": [
      "/Users/abertran/anaconda3/lib/python3.6/site-packages/rpy2/rinterface/__init__.py:145: RRuntimeWarning: Error in summary.rq(object, cov = TRUE, ...) : \n",
      "  tau + h > 1:  error in summary.rq\n",
      "\n",
      "  warnings.warn(x, RRuntimeWarning)\n",
      "/Users/abertran/anaconda3/lib/python3.6/site-packages/rpy2/rinterface/__init__.py:145: RRuntimeWarning: In addition: \n",
      "  warnings.warn(x, RRuntimeWarning)\n",
      "/Users/abertran/anaconda3/lib/python3.6/site-packages/rpy2/rinterface/__init__.py:145: RRuntimeWarning: There were 50 or more warnings (use warnings() to see the first 50)\n",
      "  warnings.warn(x, RRuntimeWarning)\n",
      "/Users/abertran/anaconda3/lib/python3.6/site-packages/rpy2/rinterface/__init__.py:145: RRuntimeWarning: \n",
      "\n",
      "  warnings.warn(x, RRuntimeWarning)\n"
     ]
    },
    {
     "name": "stdout",
     "output_type": "stream",
     "text": [
      "na49\n",
      "eu6\n",
      "eu5\n",
      "na33\n",
      "na42\n",
      "ap1\n",
      "na45\n",
      "na6\n",
      "na7\n",
      "na43\n",
      "na39\n",
      "na35\n",
      "na47\n",
      "na46\n",
      "ap5\n",
      "eu1\n",
      "na3\n",
      "na31\n",
      "na34\n",
      "ap4\n",
      "ap6\n",
      "na48\n",
      "na51\n",
      "na37\n",
      "na29\n",
      "eu7\n",
      "ap7\n",
      "na38\n",
      "na32\n",
      "na24\n",
      "ap3\n",
      "na52\n",
      "na40\n"
     ]
    }
   ],
   "source": [
    "#Current forecast\n",
    "import csv\n",
    "import os\n",
    "\n",
    "outdir='/Users/abertran/Documents/Results/ForecastResults/dbCPUUtil/01112018/'\n",
    "\n",
    "try:\n",
    "    os.remove(outdir+'ForecastResults_dbcpu.csv')\n",
    "except OSError:\n",
    "    pass\n",
    "\n",
    "ttl_labels=[\"Pod Name\", \"Prophet Pessimistic TTL\", \"Prophet optimistic TTL\", \"Quantile pessimistic TTL\", \"Quantile optimistic TTL\",\"rms test data prophet\", \"MAE test data prophet\", \"MAPE test data prophet\",\"rms test data quantile\", \"MAE test data quantile\", \"MAPE test data quantile\"]\n",
    "with open(outdir+'ForecastResults_dbcpu.csv', 'a') as myfile:\n",
    "        wr = csv.writer(myfile, quoting=csv.QUOTE_ALL)\n",
    "        wr.writerow(ttl_labels)\n",
    "\n",
    "for podName in pod_list:\n",
    "    print(podName)\n",
    "#podName='na32'    \n",
    "\n",
    "    numNodes = pod.loc[podName]['servers']\n",
    "    topNodes = numNodes - 1\n",
    "    capacity = topNodes * dbCpuCapacity\n",
    "\n",
    "    # various dates to be aware of\n",
    "    IRdate = pod.loc[podName]['IRdate']\n",
    "\n",
    "    holidays = pd.DataFrame({\n",
    "    'holiday': 'holiday',\n",
    "    'ds': getHolidays(start='20-Nov-2016', end=IRdate).strftime('%d-%b-%Y'),\n",
    "    'lower_window': -1,\n",
    "    'upper_window': 1,})\n",
    "\n",
    "    # fetch data for analysis\n",
    "    data = importArgusTimeSeriesCSV('/Users/abertran/Documents/gitRepositories/Steve_notebooks/SteveBobNotebooks/data/' + podName + '-cpu-capacity.csv')\n",
    "    tsCPU2 = pd.Series.to_frame(getRankedTimeSeries3(data, topNodes).sum(axis=1))\n",
    "\n",
    "    # dbCPU changepoints and reasons\n",
    "    cpd = pod.loc[podName]['cpd'].split(',') if not pd.isnull(pod.loc[podName]['cpd']) else None\n",
    "    cpt = pod.loc[podName]['cpt'].split(',') if not pd.isnull(pod.loc[podName]['cpt']) else None\n",
    "    cpl = {'Title': cpt, 'changeDate': cpd} if not pd.isnull(pod.loc[podName]['cpd']) else None\n",
    "\n",
    "    #dbCPUchangePoints = pd.DataFrame(data=cpl).reindex() if not pd.isnull(pod.loc[podName]['cpd']) else None\n",
    "    #dbCPUchangePoints['changeDate_asDate']=pd.to_datetime(dbCPUchangePoints['changeDate'])\n",
    "    #mask=(dbCPUchangePoints['changeDate_asDate'] >= np.min(tsCPU2.index) & dbCPUchangePoints['changeDate_asDate'] <= np.max(tsCPU2.index))\n",
    "    #dbCPUchangePointsAsDate = dbCPUchangePoints['changeDate_asDate']#pd.to_datetime(cpd)\n",
    "\n",
    "    dbCPUchangePoints = pd.DataFrame(data=cpl).reindex() if not pd.isnull(pod.loc[podName]['cpd']) else None\n",
    "    if dbCPUchangePoints is None:\n",
    "        dbCPUchangePointsAsDate=pd.to_datetime(cpd)\n",
    "    else:\n",
    "        dbCPUchangePoints['changeDate_asDate']=pd.to_datetime(dbCPUchangePoints['changeDate'])\n",
    "        mask= (dbCPUchangePoints['changeDate_asDate'] >= np.min(tsCPU2.index)) & (dbCPUchangePoints['changeDate_asDate'] <= np.max(tsCPU2.index))\n",
    "        dbCPUchangePoints = dbCPUchangePoints.loc[mask]\n",
    "        dbCPUchangePointsAsDate = dbCPUchangePoints['changeDate_asDate']#pd.to_datetime(cpd)      \n",
    "\n",
    "    #Plot time series as-is\n",
    "    plotTimeSeries(tsCPU2, \n",
    "    yAxisLabel='CPU Sum', \n",
    "    yLower=None, \n",
    "    yUpper=int(capacity)+100,\n",
    "    chartTitle=podName + ' Host Database Server CPU Utilization Sum (Top '+ str(topNodes) +' Nodes)',\n",
    "    changePoints=dbCPUchangePoints,\n",
    "    capacity=capacity, figureName=outdir+'timeseries_'+podName+'.pdf')\n",
    "\n",
    "    #Prophet\n",
    "    tsCPU2['ds'] = tsCPU2.index\n",
    "    tsCPU2.columns = ['y','ds']\n",
    "\n",
    "    pessimisticTTL_prophet,optimisticTTL_prophet, future,rms_test_prophet,MAE_test_prophet,MAPE_test_prophet=prophet_forecast(tsCPU2, holidays, dbCPUchangePointsAsDate,topNodes, IRdate,outdir)\n",
    "    pessimisticTTL_quantile,optimisticTTL_quantile,rms_test_quantile,MAE_test_quantile,MAPE_test_quantile=quantile_forecast(tsCPU2, IRdate, podName, future,outdir)\n",
    "    \n",
    "    ttl_times = [podName,pessimisticTTL_prophet, optimisticTTL_prophet, pessimisticTTL_quantile, optimisticTTL_quantile,rms_test, MAE_test, MAPE_test]\n",
    "\n",
    "    with open(outdir+'ForecastResults_dbcpu.csv', 'a') as myfile:\n",
    "        wr = csv.writer(myfile, quoting=csv.QUOTE_ALL)\n",
    "        wr.writerow(ttl_times)\n",
    "    #Determine dates\n",
    "      "
   ]
  }
 ],
 "metadata": {
  "kernelspec": {
   "display_name": "Python 3",
   "language": "python",
   "name": "python3"
  },
  "language_info": {
   "codemirror_mode": {
    "name": "ipython",
    "version": 3
   },
   "file_extension": ".py",
   "mimetype": "text/x-python",
   "name": "python",
   "nbconvert_exporter": "python",
   "pygments_lexer": "ipython3",
   "version": "3.6.3"
  }
 },
 "nbformat": 4,
 "nbformat_minor": 2
}
